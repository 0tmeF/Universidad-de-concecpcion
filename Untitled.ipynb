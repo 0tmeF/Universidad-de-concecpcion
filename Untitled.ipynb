{
 "cells": [
  {
   "cell_type": "code",
   "execution_count": null,
   "id": "dfc1c8c2-578a-44b6-92e0-c31729aec1fc",
   "metadata": {},
   "outputs": [],
   "source": [
    "hola hola"
   ]
  },
  {
   "cell_type": "code",
   "execution_count": null,
   "id": "7f1a7c13-2e0f-4a7a-bedf-b4c9980f3d9f",
   "metadata": {},
   "outputs": [],
   "source": []
  },
  {
   "cell_type": "code",
   "execution_count": null,
   "id": "4ba5c2bf-d5b8-4b15-8757-34b29f811cb2",
   "metadata": {},
   "outputs": [],
   "source": []
  }
 ],
 "metadata": {
  "kernelspec": {
   "display_name": "Python 3 (ipykernel)",
   "language": "python",
   "name": "python3"
  },
  "language_info": {
   "codemirror_mode": {
    "name": "ipython",
    "version": 3
   },
   "file_extension": ".py",
   "mimetype": "text/x-python",
   "name": "python",
   "nbconvert_exporter": "python",
   "pygments_lexer": "ipython3",
   "version": "3.12.4"
  }
 },
 "nbformat": 4,
 "nbformat_minor": 5
}
